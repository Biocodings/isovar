{
 "cells": [
  {
   "cell_type": "code",
   "execution_count": 1,
   "metadata": {
    "collapsed": true
   },
   "outputs": [],
   "source": [
    "import pysam"
   ]
  },
  {
   "cell_type": "code",
   "execution_count": 2,
   "metadata": {
    "collapsed": true
   },
   "outputs": [],
   "source": [
    "samfile = pysam.AlignmentFile(\"bam_0.bam\")"
   ]
  },
  {
   "cell_type": "code",
   "execution_count": 42,
   "metadata": {
    "collapsed": false
   },
   "outputs": [
    {
     "name": "stdout",
     "output_type": "stream",
     "text": [
      "HISEQ:142:C5822ANXX:3:2116:16538:101199\t83\t22\t46929962\t60\t100M\t22\t46929716\t100\tCATGATCTGGGCATTAGGGCCTTCATCAGGGTCGTTAGCACGAATCTTTGCCACCACCGACCCCACTGGGTTGTTCTCCTCAACAAACAGCTCCAGTTCG\tarray('B', [33, 26, 28, 30, 26, 30, 34, 29, 32, 31, 33, 34, 27, 30, 27, 30, 32, 32, 33, 33, 34, 30, 29, 33, 27, 29, 33, 30, 32, 32, 32, 29, 27, 32, 30, 27, 30, 33, 33, 27, 27, 32, 28, 28, 29, 34, 30, 30, 29, 33, 33, 33, 27, 33, 33, 27, 33, 27, 32, 27, 33, 33, 33, 33, 27, 34, 29, 32, 32, 32, 30, 29, 32, 30, 29, 34, 29, 33, 34, 29, 33, 28, 27, 33, 28, 28, 27, 33, 30, 33, 34, 29, 33, 33, 30, 31, 29, 27, 26, 29])\t[('BD', 'MLLMPNQNJNNNKJLLHLLMJJLMLLMKHLLMLJIKLMIKLJILKJBJMLLIKLIKKLMKHHLIMNLHLJJIIJJJJLJKIIHIBJIMLNLLNONNJMII'), ('PG', 'MarkDuplicates'), ('RG', 'FAKE_Normal_Exome'), ('BI', 'OPOOSRSRNQRQOMPQKOPNMMPOOPPPKONNNLKNQOLOMLKNMLELOONLONLOMMOOJJNLNNNINLLLLKLLMLLNLKKLDKKNPPMNNPONMOMM'), ('NM', 0), ('BQ', '@@@@@@@@@@@@@@@@@@@@@@@@@@@@@@@@@@@@@@@@@@@@@@@@@@@@@@@@@@@@@@@@@@@@@@@@@@@@@@@@@@@@@@@@@@@@@@@@@@@@'), ('MQ', 60), ('OQ', 'FGGGGFGGGDGFGGGGGGGGGGGGGGGGGGGGGGGGGGGGGGGFGGGGGGGGGGGGGGGGGGGGGGGGGGGGGGGGGGGGGGGGGGGGGGGGGGGBCBBB'), ('AS', 100), ('XS', 0)]\n"
     ]
    }
   ],
   "source": [
    "for aligned_segment in samfile.fetch('chr22', 46929962, 46929963):\n",
    "    print(row)\n",
    "    "
   ]
  },
  {
   "cell_type": "code",
   "execution_count": 13,
   "metadata": {
    "collapsed": false
   },
   "outputs": [],
   "source": [
    "pysam.AlignmentFile.fetch??"
   ]
  },
  {
   "cell_type": "code",
   "execution_count": 47,
   "metadata": {
    "collapsed": false
   },
   "outputs": [
    {
     "data": {
      "text/plain": [
       "True"
      ]
     },
     "execution_count": 47,
     "metadata": {},
     "output_type": "execute_result"
    }
   ],
   "source": [
    "aligned_segment.reference_"
   ]
  },
  {
   "cell_type": "code",
   "execution_count": null,
   "metadata": {
    "collapsed": true
   },
   "outputs": [],
   "source": []
  },
  {
   "cell_type": "code",
   "execution_count": null,
   "metadata": {
    "collapsed": true
   },
   "outputs": [],
   "source": []
  }
 ],
 "metadata": {
  "kernelspec": {
   "display_name": "Python 3",
   "language": "python",
   "name": "python3"
  },
  "language_info": {
   "codemirror_mode": {
    "name": "ipython",
    "version": 3
   },
   "file_extension": ".py",
   "mimetype": "text/x-python",
   "name": "python",
   "nbconvert_exporter": "python",
   "pygments_lexer": "ipython3",
   "version": "3.5.2"
  }
 },
 "nbformat": 4,
 "nbformat_minor": 2
}
